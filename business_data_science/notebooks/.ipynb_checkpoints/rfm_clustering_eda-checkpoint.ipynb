{
 "cells": [
  {
   "cell_type": "code",
   "execution_count": 77,
   "id": "fd01c7cd-847e-49ad-a122-feb2127c5edf",
   "metadata": {},
   "outputs": [],
   "source": [
    "import pandas as pd\n",
    "import numpy as np\n",
    "import matplotlib.pyplot as plt\n",
    "import seaborn as sns\n",
    "\n",
    "import os\n",
    "import sys\n",
    "import subprocess\n",
    "import datetime\n",
    "import re\n",
    "\n",
    "from sklearn.cluster import KMeans\n",
    "from sklearn.preprocessing import StandardScaler\n",
    "from sklearn.compose import ColumnTransformer\n",
    "from scipy.stats import boxcox"
   ]
  },
  {
   "cell_type": "code",
   "execution_count": 41,
   "id": "a96f31eb-e9da-4f93-a29b-4f2d7f918ca7",
   "metadata": {},
   "outputs": [],
   "source": [
    "home_dir = '/home/jupyter/data_science_projects/business_data_science'\n",
    "\n",
    "data_dir = os.path.join(home_dir, 'data/external/OnlineRetail.csv')"
   ]
  },
  {
   "cell_type": "code",
   "execution_count": 42,
   "id": "2606c553-6c4f-474f-a680-50c56c23b7de",
   "metadata": {},
   "outputs": [],
   "source": [
    "df = pd.read_csv(data_dir, encoding=\"unicode_escape\").drop_duplicates().dropna().reset_index(drop=True)\n",
    "\n",
    "#df = df.loc[df.Country == 'United Kingdom']\n",
    "\n",
    "# Changing data types\n",
    "df['InvoiceDate'] = pd.to_datetime(df['InvoiceDate'])\n",
    "# time series variables\n",
    "df['date'] = pd.to_datetime(df.InvoiceDate).dt.date\n",
    "df['year'] = pd.to_datetime(df.InvoiceDate).dt.year\n",
    "df['month'] = pd.to_datetime(df.InvoiceDate).dt.month\n",
    "df['day'] = pd.to_datetime(df.InvoiceDate).dt.day\n",
    "df['yearmo'] = pd.to_datetime(df.InvoiceDate).dt.strftime('%Y%m')\n",
    "# new variable\n",
    "\n",
    "df['Revenue'] = df['Quantity'] * df['UnitPrice']"
   ]
  },
  {
   "cell_type": "markdown",
   "id": "137c27a9-d71c-4503-8152-29fdbc92119e",
   "metadata": {},
   "source": [
    "### RECENCY, FREQUENCY, MONETARY ANALYSIS \n",
    "Objective is to find the RFM for each customer to determing Low, Medium and High Value Customers"
   ]
  },
  {
   "cell_type": "code",
   "execution_count": 43,
   "id": "f392ebed-9747-42c5-b9e1-c26695984771",
   "metadata": {},
   "outputs": [],
   "source": [
    "new_df = df.copy()"
   ]
  },
  {
   "cell_type": "code",
   "execution_count": 44,
   "id": "691bedd2-cd48-43ff-aeb1-5809a7926239",
   "metadata": {},
   "outputs": [],
   "source": [
    "new_df['Recency'] =  (pd.to_datetime(new_df.InvoiceDate).max() - new_df.InvoiceDate).dt.days"
   ]
  },
  {
   "cell_type": "code",
   "execution_count": 45,
   "id": "95daba2d-d784-4672-8870-82f865ad348c",
   "metadata": {},
   "outputs": [
    {
     "data": {
      "text/plain": [
       "count    4372.000000\n",
       "mean       91.047118\n",
       "std       100.765435\n",
       "min         0.000000\n",
       "25%        16.000000\n",
       "50%        49.000000\n",
       "75%       142.000000\n",
       "max       373.000000\n",
       "Name: Recency, dtype: float64"
      ]
     },
     "execution_count": 45,
     "metadata": {},
     "output_type": "execute_result"
    }
   ],
   "source": [
    "r_df = new_df.groupby(['CustomerID']).agg({'InvoiceDate': 'max'}).reset_index()\\\n",
    ".merge(new_df[['CustomerID', 'InvoiceDate','Recency']], on=['CustomerID','InvoiceDate'], how='inner')\\\n",
    ".drop_duplicates().reset_index(drop=True).drop(['InvoiceDate'], axis=1)\n",
    "r_df.Recency.describe()"
   ]
  },
  {
   "cell_type": "code",
   "execution_count": 46,
   "id": "a2df2445-2bd0-4c97-a94b-582b6612400e",
   "metadata": {},
   "outputs": [
    {
     "data": {
      "text/plain": [
       "<Axes: >"
      ]
     },
     "execution_count": 46,
     "metadata": {},
     "output_type": "execute_result"
    },
    {
     "data": {
      "image/png": "[encoded data removed]",
      "text/plain": [
       "<Figure size 640x480 with 1 Axes>"
      ]
     },
     "metadata": {},
     "output_type": "display_data"
    }
   ],
   "source": [
    "r_df.Recency.hist(bins=50)"
   ]
  },
  {
   "cell_type": "code",
   "execution_count": 119,
   "id": "4454d12c-c187-46f0-a856-989fd3d9f32f",
   "metadata": {},
   "outputs": [],
   "source": [
    "def transform(data):\n",
    "    \"\"\"\n",
    "    Purpose: Transform data using Boxcox\n",
    "    Input: data - a dataframe column\n",
    "    Output: transformed data\n",
    "    \"\"\"\n",
    "    print('Transforming using Boxcox...')\n",
    "    v,l = boxcox(data+.0000000001)\n",
    "    print(f'Done. Optimal lamda: {l}')\n",
    "    #plt.hist(v, bins = 50)\n",
    "    return v\n",
    "\n",
    "def scale(data):\n",
    "    \"\"\"\n",
    "    Purpose: Transform data using StandardScaler\n",
    "    Input: data - a dataframe column\n",
    "    Output: transformed data\n",
    "    \"\"\"\n",
    "    scaler = StandardScaler()\n",
    "    print('Fitting StandardScaler...')\n",
    "    scaled = scaler.fit_transform(data)\n",
    "    #plt.hist(scaled, bins = 50)\n",
    "    return data\n",
    "\n",
    "def transform_and_scale(data):\n",
    "    \"\"\"\n",
    "    Purpose: Transform data using Boxcox and StandardScaler\n",
    "    Input: data - a dataframe column\n",
    "    Output: transformed data\n",
    "    \"\"\"\n",
    "    print('Transforming using Boxcox and StandardScaler...')\n",
    "    data = transform(data)\n",
    "    if type(data) == pd.core.series.Series:\n",
    "        print('Converting Series to dataframe...')\n",
    "        data = pd.DataFrame(data)\n",
    "    elif type(data) == np.ndarray:\n",
    "        print('Converting array to data...')\n",
    "        data = pd.DataFrame(data)\n",
    "    data = scale(data)\n",
    "    print('Done.')\n",
    "    return data\n",
    "\n",
    "transform_and_scale(r_df['Recency'])"
   ]
  },
  {
   "cell_type": "code",
   "execution_count": 75,
   "id": "64c2db5d-c9e9-4ad9-ab29-56246e509195",
   "metadata": {},
   "outputs": [
    {
     "ename": "AttributeError",
     "evalue": "'Series' object has no attribute 'reshape'",
     "output_type": "error",
     "traceback": [
      "\u001b[0;31m---------------------------------------------------------------------------\u001b[0m",
      "\u001b[0;31mAttributeError\u001b[0m                            Traceback (most recent call last)",
      "\u001b[0;32m/var/tmp/ipykernel_2382124/2076106068.py\u001b[0m in \u001b[0;36m?\u001b[0;34m()\u001b[0m\n\u001b[0;32m----> 1\u001b[0;31m \u001b[0mscale\u001b[0m\u001b[0;34m(\u001b[0m\u001b[0mr_df\u001b[0m\u001b[0;34m[\u001b[0m\u001b[0;34m'Recency'\u001b[0m\u001b[0;34m]\u001b[0m\u001b[0;34m)\u001b[0m\u001b[0;34m\u001b[0m\u001b[0;34m\u001b[0m\u001b[0m\n\u001b[0m",
      "\u001b[0;32m/var/tmp/ipykernel_2382124/3427226587.py\u001b[0m in \u001b[0;36m?\u001b[0;34m(data)\u001b[0m\n\u001b[1;32m      1\u001b[0m \u001b[0;32mdef\u001b[0m \u001b[0mscale\u001b[0m\u001b[0;34m(\u001b[0m\u001b[0mdata\u001b[0m\u001b[0;34m)\u001b[0m\u001b[0;34m:\u001b[0m\u001b[0;34m\u001b[0m\u001b[0;34m\u001b[0m\u001b[0m\n\u001b[0;32m----> 2\u001b[0;31m     \u001b[0mdata\u001b[0m \u001b[0;34m=\u001b[0m \u001b[0mdata\u001b[0m\u001b[0;34m.\u001b[0m\u001b[0mreshape\u001b[0m\u001b[0;34m(\u001b[0m\u001b[0;34m-\u001b[0m\u001b[0;36m1\u001b[0m\u001b[0;34m,\u001b[0m \u001b[0;36m1\u001b[0m\u001b[0;34m)\u001b[0m\u001b[0;34m\u001b[0m\u001b[0;34m\u001b[0m\u001b[0m\n\u001b[0m\u001b[1;32m      3\u001b[0m     \u001b[0mscaler\u001b[0m \u001b[0;34m=\u001b[0m \u001b[0mStandardScaler\u001b[0m\u001b[0;34m(\u001b[0m\u001b[0;34m)\u001b[0m\u001b[0;34m\u001b[0m\u001b[0;34m\u001b[0m\u001b[0m\n\u001b[1;32m      4\u001b[0m     \u001b[0mscaled\u001b[0m \u001b[0;34m=\u001b[0m \u001b[0mscaler\u001b[0m\u001b[0;34m.\u001b[0m\u001b[0mfit_transform\u001b[0m\u001b[0;34m(\u001b[0m\u001b[0mdata\u001b[0m\u001b[0;34m)\u001b[0m\u001b[0;34m\u001b[0m\u001b[0;34m\u001b[0m\u001b[0m\n\u001b[1;32m      5\u001b[0m     \u001b[0mplt\u001b[0m\u001b[0;34m.\u001b[0m\u001b[0mhist\u001b[0m\u001b[0;34m(\u001b[0m\u001b[0mscaled\u001b[0m\u001b[0;34m,\u001b[0m \u001b[0mbins\u001b[0m \u001b[0;34m=\u001b[0m \u001b[0;36m50\u001b[0m\u001b[0;34m)\u001b[0m\u001b[0;34m\u001b[0m\u001b[0;34m\u001b[0m\u001b[0m\n",
      "\u001b[0;32m/opt/conda/lib/python3.10/site-packages/pandas/core/generic.py\u001b[0m in \u001b[0;36m?\u001b[0;34m(self, name)\u001b[0m\n\u001b[1;32m   5898\u001b[0m             \u001b[0;32mand\u001b[0m \u001b[0mname\u001b[0m \u001b[0;32mnot\u001b[0m \u001b[0;32min\u001b[0m \u001b[0mself\u001b[0m\u001b[0;34m.\u001b[0m\u001b[0m_accessors\u001b[0m\u001b[0;34m\u001b[0m\u001b[0;34m\u001b[0m\u001b[0m\n\u001b[1;32m   5899\u001b[0m             \u001b[0;32mand\u001b[0m \u001b[0mself\u001b[0m\u001b[0;34m.\u001b[0m\u001b[0m_info_axis\u001b[0m\u001b[0;34m.\u001b[0m\u001b[0m_can_hold_identifiers_and_holds_name\u001b[0m\u001b[0;34m(\u001b[0m\u001b[0mname\u001b[0m\u001b[0;34m)\u001b[0m\u001b[0;34m\u001b[0m\u001b[0;34m\u001b[0m\u001b[0m\n\u001b[1;32m   5900\u001b[0m         ):\n\u001b[1;32m   5901\u001b[0m             \u001b[0;32mreturn\u001b[0m \u001b[0mself\u001b[0m\u001b[0;34m[\u001b[0m\u001b[0mname\u001b[0m\u001b[0;34m]\u001b[0m\u001b[0;34m\u001b[0m\u001b[0;34m\u001b[0m\u001b[0m\n\u001b[0;32m-> 5902\u001b[0;31m         \u001b[0;32mreturn\u001b[0m \u001b[0mobject\u001b[0m\u001b[0;34m.\u001b[0m\u001b[0m__getattribute__\u001b[0m\u001b[0;34m(\u001b[0m\u001b[0mself\u001b[0m\u001b[0;34m,\u001b[0m \u001b[0mname\u001b[0m\u001b[0;34m)\u001b[0m\u001b[0;34m\u001b[0m\u001b[0;34m\u001b[0m\u001b[0m\n\u001b[0m",
      "\u001b[0;31mAttributeError\u001b[0m: 'Series' object has no attribute 'reshape'"
     ]
    }
   ],
   "source": [
    "scale(r_df['Recency'])"
   ]
  },
  {
   "cell_type": "code",
   "execution_count": 36,
   "id": "971e8e77-72ab-4c84-9423-a9b00dea6ee1",
   "metadata": {},
   "outputs": [],
   "source": [
    "# Running Cluster Analysis to find optimal number of clusters\n",
    "\n",
    "sse = {}\n",
    "\n",
    "data = r_df[['Recency']]\n",
    "\n",
    "for k in range(1, 11):\n",
    "    kmeans = KMeans(n_clusters=k, max_iter=1000, n_init='auto').fit(data)\n",
    "    sse[k] = kmeans.inertia_"
   ]
  },
  {
   "cell_type": "code",
   "execution_count": 37,
   "id": "53d9d2ab-333b-48ab-841b-0d254e7324b1",
   "metadata": {},
   "outputs": [
    {
     "data": {
      "image/png": "[encoded data removed]",
      "text/plain": [
       "<Figure size 640x480 with 1 Axes>"
      ]
     },
     "metadata": {},
     "output_type": "display_data"
    }
   ],
   "source": [
    "plt.figure()\n",
    "plt.plot(list(sse.keys()), list(sse.values()))\n",
    "plt.xlabel(\"Number of cluster\")\n",
    "plt.show()"
   ]
  },
  {
   "cell_type": "markdown",
   "id": "2c9b35f8-8938-4786-955b-579b98149432",
   "metadata": {},
   "source": [
    "Scree plot shows 3 or 4 clusters would be optimal"
   ]
  },
  {
   "cell_type": "code",
   "execution_count": null,
   "id": "165beded-9d41-4730-ba42-42e1d6910fc5",
   "metadata": {},
   "outputs": [],
   "source": []
  }
 ],
 "metadata": {
  "environment": {
   "kernel": "python3",
   "name": "common-cpu.m109",
   "type": "gcloud",
   "uri": "gcr.io/deeplearning-platform-release/base-cpu:m109"
  },
  "kernelspec": {
   "display_name": "Python 3",
   "language": "python",
   "name": "python3"
  },
  "language_info": {
   "codemirror_mode": {
    "name": "ipython",
    "version": 3
   },
   "file_extension": ".py",
   "mimetype": "text/x-python",
   "name": "python",
   "nbconvert_exporter": "python",
   "pygments_lexer": "ipython3",
   "version": "3.10.11"
  }
 },
 "nbformat": 4,
 "nbformat_minor": 5
}
