{
 "cells": [
  {
   "cell_type": "markdown",
   "id": "f49c44fe-bfb8-4b38-9e6e-027db2892153",
   "metadata": {
    "tags": []
   },
   "source": [
    "# Clustering Recency, Frequency, and Monetary (RFM) individually"
   ]
  },
  {
   "cell_type": "markdown",
   "id": "dafa3c3b-fd90-4308-99e6-a1b5e32e8d36",
   "metadata": {
    "tags": []
   },
   "source": [
    "We're going to explore clustering recency, frequency, and monetary value indivudually."
   ]
  },
  {
   "cell_type": "code",
   "execution_count": 21,
   "id": "97d6719a-3a08-4a34-9532-96e4bc21f147",
   "metadata": {},
   "outputs": [],
   "source": [
    "import pandas as pd\n",
    "import numpy as np\n",
    "import matplotlib.pyplot as plt\n",
    "import seaborn as sns\n",
    "\n",
    "import os\n",
    "import sys\n",
    "import subprocess\n",
    "import datetime\n",
    "import re\n",
    "\n",
    "from sklearn.cluster import KMeans\n",
    "from sklearn.mixture import BayesianGaussianMixture\n",
    "from sklearn.cluster import AgglomerativeClustering\n",
    "\n",
    "from sklearn.preprocessing import StandardScaler, MinMaxScaler\n",
    "from sklearn.compose import ColumnTransformer\n",
    "from scipy.stats import boxcox\n",
    "from scipy.stats import mannwhitneyu\n",
    "\n",
    "from statsmodels.stats.weightstats import ttest_ind\n",
    "\n",
    "import warnings\n",
    "warnings.filterwarnings('ignore')"
   ]
  },
  {
   "cell_type": "markdown",
   "id": "dc2d5d29-bfe1-4a05-8fda-9b11a3fc795b",
   "metadata": {},
   "source": [
    "### RECENCY, FREQUENCY, MONETARY ANALYSIS \n",
    "Objective is to find the RFM for each customer to determing Low, Medium and High Value Customers"
   ]
  },
  {
   "cell_type": "code",
   "execution_count": 22,
   "id": "913809bf-e597-4b8d-958c-727511a3db44",
   "metadata": {},
   "outputs": [],
   "source": [
    "home_dir = '/home/jupyter/data_science_challenges/business_data_science'\n",
    "\n",
    "data_dir = os.path.join(home_dir, 'data/external/OnlineRetail.csv')\n",
    "\n"
   ]
  },
  {
   "cell_type": "code",
   "execution_count": 23,
   "id": "ea6749bf-8253-4a2c-8491-217732d0bb4a",
   "metadata": {
    "tags": []
   },
   "outputs": [],
   "source": [
    "df = pd.read_csv(data_dir, encoding=\"unicode_escape\").drop_duplicates().dropna().reset_index(drop=True)\n",
    "\n",
    "# Changing data types\n",
    "df['InvoiceDate'] = pd.to_datetime(df['InvoiceDate'])\n",
    "# time series variables\n",
    "df['date'] = pd.to_datetime(df.InvoiceDate).dt.date\n",
    "df['year'] = pd.to_datetime(df.InvoiceDate).dt.year\n",
    "df['month'] = pd.to_datetime(df.InvoiceDate).dt.month\n",
    "df['day'] = pd.to_datetime(df.InvoiceDate).dt.day\n",
    "df['yearmo'] = pd.to_datetime(df.InvoiceDate).dt.strftime('%Y%m')\n",
    "# new variable\n",
    "\n",
    "df['Revenue'] = df['Quantity'] * df['UnitPrice']\n",
    "\n",
    "df = df.loc[df.Country == 'United Kingdom']"
   ]
  },
  {
   "cell_type": "markdown",
   "id": "2f33837f-37f2-4120-8cb9-954698ea7aba",
   "metadata": {},
   "source": [
    "#### Recency"
   ]
  },
  {
   "cell_type": "code",
   "execution_count": 24,
   "id": "29276c4a-79b7-44f7-b0c1-d4c224be576a",
   "metadata": {},
   "outputs": [],
   "source": [
    "# We drop returns.\n",
    "new_df = df.loc[~df.InvoiceNo.str.contains('C')].copy()\n",
    "new_df['Recency'] =  (pd.to_datetime(new_df.InvoiceDate).max() - new_df.InvoiceDate).dt.days \n",
    "r_df = new_df.groupby(['CustomerID']).agg({'InvoiceDate': 'min'}).reset_index()\\\n",
    ".merge(new_df[['CustomerID', 'InvoiceDate','Recency']], on=['CustomerID','InvoiceDate'], how='inner')\\\n",
    ".drop_duplicates().reset_index(drop=True).drop(['InvoiceDate'], axis=1)\n"
   ]
  },
  {
   "cell_type": "markdown",
   "id": "9ee443d4-a825-4d81-a071-6186aad81498",
   "metadata": {},
   "source": [
    "#### Frequency\n",
    "We are going to use the formula:\n",
    "Frequency = 1 / Median( Time between Purchases)"
   ]
  },
  {
   "cell_type": "code",
   "execution_count": 25,
   "id": "67b96866-15da-4d46-bd73-33fc00fe76f0",
   "metadata": {},
   "outputs": [],
   "source": [
    "new_df = df.loc[~df.InvoiceNo.str.contains('C')].copy()\n",
    "f_df = new_df[['InvoiceDate','CustomerID']].drop_duplicates().sort_values(by=['CustomerID','InvoiceDate'], ascending=True).reset_index(drop=True)\n",
    "\n",
    "#Creating difference between invoice dates per person\n",
    "f_df['Offset'] = f_df.groupby(['CustomerID'])['InvoiceDate'].diff().dt.seconds\n",
    "\n",
    "# Creating Count per user\n",
    "f_df = f_df.merge(\\\n",
    "    f_df.groupby(['CustomerID']).agg(Count = ('InvoiceDate', 'count')).reset_index()\\\n",
    "           ,on=['CustomerID'], how='inner')\n",
    "\n",
    "# Finding folks who only had one interaction and giving them an Offset that is differenced from the latest day in the dataset\n",
    "f_df.loc[f_df.Count == 1, 'Offset'] = (f_df.InvoiceDate.max() - f_df.InvoiceDate).dt.seconds\n",
    "\n",
    "# Dropping the first occurance of a invoicedate.  Not needed to make agg.\n",
    "f_df = f_df.loc[~(f_df.Offset.isna())]\n",
    "\n",
    "f_df = f_df.groupby(['CustomerID']).agg(Frequency = ('Offset','median')).reset_index()\n",
    "\n",
    "#f_df['FrequencyHertz'] = 1/f_df.Frequency"
   ]
  },
  {
   "cell_type": "markdown",
   "id": "13ee17ed-0e69-4687-9b14-fda099f9bedf",
   "metadata": {},
   "source": [
    "#### Monetary"
   ]
  },
  {
   "cell_type": "code",
   "execution_count": 26,
   "id": "16b29ce2-7ad0-4dac-a59e-9beb17a0ffed",
   "metadata": {},
   "outputs": [],
   "source": [
    "# We use DF instead of new_df here because we want to penalize users for their returns.\n",
    "m_df = df[['CustomerID','Revenue']].groupby('CustomerID').agg(Revenue = ('Revenue', 'sum')).reset_index()"
   ]
  },
  {
   "cell_type": "code",
   "execution_count": 27,
   "id": "da84bd7e-8607-4fe7-ae88-21fad27d2a57",
   "metadata": {
    "tags": []
   },
   "outputs": [],
   "source": [
    "final_df = r_df.merge(f_df, on='CustomerID', how='inner').merge(m_df, on='CustomerID', how='inner')"
   ]
  },
  {
   "cell_type": "code",
   "execution_count": 65,
   "id": "a3545ee1-3058-476d-bd1f-05e4223e8eed",
   "metadata": {
    "tags": []
   },
   "outputs": [
    {
     "data": {
      "text/plain": [
       "array([5.00075491, 5.67716319, 6.31714738, ..., 5.06787063, 5.46177584,\n",
       "       5.43274651])"
      ]
     },
     "execution_count": 65,
     "metadata": {},
     "output_type": "execute_result"
    }
   ],
   "source": [
    "data[0]"
   ]
  },
  {
   "cell_type": "code",
   "execution_count": 66,
   "id": "c9420a9a-fe41-4d22-b79e-5089eabbd0c9",
   "metadata": {
    "tags": []
   },
   "outputs": [],
   "source": [
    "df_clusters = final_df.copy()\n",
    "cols = ['Recency', 'Frequency', 'Revenue']\n",
    "models = [AgglomerativeClustering(n_clusters=3), KMeans(n_clusters=3)]\n",
    "#models = [KMeans(n_clusters=3)]\n",
    "for c in cols:\n",
    "    #data = np.array(final_df[c]).reshape(-1, 1)\n",
    "    if c == 'Revenue':\n",
    "        #data = StandardScaler().fit_transform(data)\n",
    "        data = final_df[c]\n",
    "        data = boxcox(data + np.abs(min(data)) + 1)\n",
    "        data = np.array(data[0]).reshape(-1, 1)\n",
    "        data = StandardScaler().fit_transform(data)\n",
    "    else: \n",
    "        data = np.array(final_df[c]).reshape(-1, 1)\n",
    "    for model in models:\n",
    "        df_clusters[c + '_' + model.__class__.__name__] = model.fit_predict(data)"
   ]
  },
  {
   "cell_type": "markdown",
   "id": "1e2a0c3c-72de-4626-a8ba-ebf9f49a74b2",
   "metadata": {},
   "source": [
    "### CLUSTER ANALYSIS"
   ]
  },
  {
   "cell_type": "markdown",
   "id": "df48b8f1-4bf1-4541-9f78-2ee8fc54d2d0",
   "metadata": {
    "tags": []
   },
   "source": [
    "#### Checking Recency"
   ]
  },
  {
   "cell_type": "code",
   "execution_count": 67,
   "id": "8c9fab73-795f-4fb5-a54d-9224c5f8db9d",
   "metadata": {
    "tags": []
   },
   "outputs": [
    {
     "data": {
      "text/html": [
       "<div>\n",
       "<style scoped>\n",
       "    .dataframe tbody tr th:only-of-type {\n",
       "        vertical-align: middle;\n",
       "    }\n",
       "\n",
       "    .dataframe tbody tr th {\n",
       "        vertical-align: top;\n",
       "    }\n",
       "\n",
       "    .dataframe thead th {\n",
       "        text-align: right;\n",
       "    }\n",
       "</style>\n",
       "<table border=\"1\" class=\"dataframe\">\n",
       "  <thead>\n",
       "    <tr style=\"text-align: right;\">\n",
       "      <th></th>\n",
       "      <th>count</th>\n",
       "      <th>mean</th>\n",
       "      <th>std</th>\n",
       "      <th>min</th>\n",
       "      <th>25%</th>\n",
       "      <th>50%</th>\n",
       "      <th>75%</th>\n",
       "      <th>max</th>\n",
       "    </tr>\n",
       "    <tr>\n",
       "      <th>Recency_KMeans</th>\n",
       "      <th></th>\n",
       "      <th></th>\n",
       "      <th></th>\n",
       "      <th></th>\n",
       "      <th></th>\n",
       "      <th></th>\n",
       "      <th></th>\n",
       "      <th></th>\n",
       "    </tr>\n",
       "  </thead>\n",
       "  <tbody>\n",
       "    <tr>\n",
       "      <th>0</th>\n",
       "      <td>1489.0</td>\n",
       "      <td>341.308932</td>\n",
       "      <td>28.618597</td>\n",
       "      <td>285.0</td>\n",
       "      <td>316.0</td>\n",
       "      <td>357.0</td>\n",
       "      <td>366.0</td>\n",
       "      <td>373.0</td>\n",
       "    </tr>\n",
       "    <tr>\n",
       "      <th>1</th>\n",
       "      <td>1159.0</td>\n",
       "      <td>64.869715</td>\n",
       "      <td>37.587128</td>\n",
       "      <td>0.0</td>\n",
       "      <td>35.0</td>\n",
       "      <td>62.0</td>\n",
       "      <td>88.0</td>\n",
       "      <td>145.0</td>\n",
       "    </tr>\n",
       "    <tr>\n",
       "      <th>2</th>\n",
       "      <td>1273.0</td>\n",
       "      <td>227.046347</td>\n",
       "      <td>39.457188</td>\n",
       "      <td>146.0</td>\n",
       "      <td>196.0</td>\n",
       "      <td>235.0</td>\n",
       "      <td>261.0</td>\n",
       "      <td>284.0</td>\n",
       "    </tr>\n",
       "  </tbody>\n",
       "</table>\n",
       "</div>"
      ],
      "text/plain": [
       "                 count        mean        std    min    25%    50%    75%  \\\n",
       "Recency_KMeans                                                              \n",
       "0               1489.0  341.308932  28.618597  285.0  316.0  357.0  366.0   \n",
       "1               1159.0   64.869715  37.587128    0.0   35.0   62.0   88.0   \n",
       "2               1273.0  227.046347  39.457188  146.0  196.0  235.0  261.0   \n",
       "\n",
       "                  max  \n",
       "Recency_KMeans         \n",
       "0               373.0  \n",
       "1               145.0  \n",
       "2               284.0  "
      ]
     },
     "execution_count": 67,
     "metadata": {},
     "output_type": "execute_result"
    }
   ],
   "source": [
    "df_clusters.groupby('Recency_KMeans').Recency.describe()"
   ]
  },
  {
   "cell_type": "code",
   "execution_count": 68,
   "id": "c797f1d4-16d6-44cc-8d63-f26a596bc278",
   "metadata": {
    "tags": []
   },
   "outputs": [
    {
     "data": {
      "text/html": [
       "<div>\n",
       "<style scoped>\n",
       "    .dataframe tbody tr th:only-of-type {\n",
       "        vertical-align: middle;\n",
       "    }\n",
       "\n",
       "    .dataframe tbody tr th {\n",
       "        vertical-align: top;\n",
       "    }\n",
       "\n",
       "    .dataframe thead th {\n",
       "        text-align: right;\n",
       "    }\n",
       "</style>\n",
       "<table border=\"1\" class=\"dataframe\">\n",
       "  <thead>\n",
       "    <tr style=\"text-align: right;\">\n",
       "      <th></th>\n",
       "      <th>count</th>\n",
       "      <th>mean</th>\n",
       "      <th>std</th>\n",
       "      <th>min</th>\n",
       "      <th>25%</th>\n",
       "      <th>50%</th>\n",
       "      <th>75%</th>\n",
       "      <th>max</th>\n",
       "    </tr>\n",
       "    <tr>\n",
       "      <th>Recency_AgglomerativeClustering</th>\n",
       "      <th></th>\n",
       "      <th></th>\n",
       "      <th></th>\n",
       "      <th></th>\n",
       "      <th></th>\n",
       "      <th></th>\n",
       "      <th></th>\n",
       "      <th></th>\n",
       "    </tr>\n",
       "  </thead>\n",
       "  <tbody>\n",
       "    <tr>\n",
       "      <th>0</th>\n",
       "      <td>2209.0</td>\n",
       "      <td>313.928022</td>\n",
       "      <td>46.844899</td>\n",
       "      <td>224.0</td>\n",
       "      <td>273.0</td>\n",
       "      <td>316.0</td>\n",
       "      <td>364.0</td>\n",
       "      <td>373.0</td>\n",
       "    </tr>\n",
       "    <tr>\n",
       "      <th>1</th>\n",
       "      <td>1120.0</td>\n",
       "      <td>62.198214</td>\n",
       "      <td>35.350233</td>\n",
       "      <td>0.0</td>\n",
       "      <td>33.0</td>\n",
       "      <td>60.0</td>\n",
       "      <td>85.0</td>\n",
       "      <td>137.0</td>\n",
       "    </tr>\n",
       "    <tr>\n",
       "      <th>2</th>\n",
       "      <td>592.0</td>\n",
       "      <td>184.618243</td>\n",
       "      <td>23.942250</td>\n",
       "      <td>138.0</td>\n",
       "      <td>165.0</td>\n",
       "      <td>185.0</td>\n",
       "      <td>206.0</td>\n",
       "      <td>222.0</td>\n",
       "    </tr>\n",
       "  </tbody>\n",
       "</table>\n",
       "</div>"
      ],
      "text/plain": [
       "                                  count        mean        std    min    25%  \\\n",
       "Recency_AgglomerativeClustering                                                \n",
       "0                                2209.0  313.928022  46.844899  224.0  273.0   \n",
       "1                                1120.0   62.198214  35.350233    0.0   33.0   \n",
       "2                                 592.0  184.618243  23.942250  138.0  165.0   \n",
       "\n",
       "                                   50%    75%    max  \n",
       "Recency_AgglomerativeClustering                       \n",
       "0                                316.0  364.0  373.0  \n",
       "1                                 60.0   85.0  137.0  \n",
       "2                                185.0  206.0  222.0  "
      ]
     },
     "execution_count": 68,
     "metadata": {},
     "output_type": "execute_result"
    }
   ],
   "source": [
    "df_clusters.groupby('Recency_AgglomerativeClustering').Recency.describe()"
   ]
  },
  {
   "cell_type": "markdown",
   "id": "b76dc622-c9a9-4e6c-b283-5ae28025bd51",
   "metadata": {},
   "source": [
    "#### Checking Frequency"
   ]
  },
  {
   "cell_type": "code",
   "execution_count": 69,
   "id": "b6b61e78-2972-4b1d-ba9e-d77be7edded5",
   "metadata": {
    "tags": []
   },
   "outputs": [
    {
     "data": {
      "text/html": [
       "<div>\n",
       "<style scoped>\n",
       "    .dataframe tbody tr th:only-of-type {\n",
       "        vertical-align: middle;\n",
       "    }\n",
       "\n",
       "    .dataframe tbody tr th {\n",
       "        vertical-align: top;\n",
       "    }\n",
       "\n",
       "    .dataframe thead th {\n",
       "        text-align: right;\n",
       "    }\n",
       "</style>\n",
       "<table border=\"1\" class=\"dataframe\">\n",
       "  <thead>\n",
       "    <tr style=\"text-align: right;\">\n",
       "      <th></th>\n",
       "      <th>count</th>\n",
       "      <th>mean</th>\n",
       "      <th>std</th>\n",
       "      <th>min</th>\n",
       "      <th>25%</th>\n",
       "      <th>50%</th>\n",
       "      <th>75%</th>\n",
       "      <th>max</th>\n",
       "    </tr>\n",
       "    <tr>\n",
       "      <th>Frequency_KMeans</th>\n",
       "      <th></th>\n",
       "      <th></th>\n",
       "      <th></th>\n",
       "      <th></th>\n",
       "      <th></th>\n",
       "      <th></th>\n",
       "      <th></th>\n",
       "      <th></th>\n",
       "    </tr>\n",
       "  </thead>\n",
       "  <tbody>\n",
       "    <tr>\n",
       "      <th>0</th>\n",
       "      <td>1600.0</td>\n",
       "      <td>77634.843750</td>\n",
       "      <td>5825.446560</td>\n",
       "      <td>60360.0</td>\n",
       "      <td>73845.0</td>\n",
       "      <td>78540.0</td>\n",
       "      <td>82320.0</td>\n",
       "      <td>86340.0</td>\n",
       "    </tr>\n",
       "    <tr>\n",
       "      <th>1</th>\n",
       "      <td>1747.0</td>\n",
       "      <td>8323.943904</td>\n",
       "      <td>5977.455695</td>\n",
       "      <td>0.0</td>\n",
       "      <td>3360.0</td>\n",
       "      <td>7620.0</td>\n",
       "      <td>12240.0</td>\n",
       "      <td>25440.0</td>\n",
       "    </tr>\n",
       "    <tr>\n",
       "      <th>2</th>\n",
       "      <td>574.0</td>\n",
       "      <td>42630.731707</td>\n",
       "      <td>5601.766596</td>\n",
       "      <td>25800.0</td>\n",
       "      <td>40237.5</td>\n",
       "      <td>42735.0</td>\n",
       "      <td>45322.5</td>\n",
       "      <td>60120.0</td>\n",
       "    </tr>\n",
       "  </tbody>\n",
       "</table>\n",
       "</div>"
      ],
      "text/plain": [
       "                   count          mean          std      min      25%  \\\n",
       "Frequency_KMeans                                                        \n",
       "0                 1600.0  77634.843750  5825.446560  60360.0  73845.0   \n",
       "1                 1747.0   8323.943904  5977.455695      0.0   3360.0   \n",
       "2                  574.0  42630.731707  5601.766596  25800.0  40237.5   \n",
       "\n",
       "                      50%      75%      max  \n",
       "Frequency_KMeans                             \n",
       "0                 78540.0  82320.0  86340.0  \n",
       "1                  7620.0  12240.0  25440.0  \n",
       "2                 42735.0  45322.5  60120.0  "
      ]
     },
     "execution_count": 69,
     "metadata": {},
     "output_type": "execute_result"
    }
   ],
   "source": [
    "df_clusters.groupby('Frequency_KMeans').Frequency.describe()"
   ]
  },
  {
   "cell_type": "code",
   "execution_count": 70,
   "id": "6458e23f-8d5a-46f3-9222-9e1e19b82b7a",
   "metadata": {
    "tags": []
   },
   "outputs": [
    {
     "data": {
      "text/html": [
       "<div>\n",
       "<style scoped>\n",
       "    .dataframe tbody tr th:only-of-type {\n",
       "        vertical-align: middle;\n",
       "    }\n",
       "\n",
       "    .dataframe tbody tr th {\n",
       "        vertical-align: top;\n",
       "    }\n",
       "\n",
       "    .dataframe thead th {\n",
       "        text-align: right;\n",
       "    }\n",
       "</style>\n",
       "<table border=\"1\" class=\"dataframe\">\n",
       "  <thead>\n",
       "    <tr style=\"text-align: right;\">\n",
       "      <th></th>\n",
       "      <th>count</th>\n",
       "      <th>mean</th>\n",
       "      <th>std</th>\n",
       "      <th>min</th>\n",
       "      <th>25%</th>\n",
       "      <th>50%</th>\n",
       "      <th>75%</th>\n",
       "      <th>max</th>\n",
       "    </tr>\n",
       "    <tr>\n",
       "      <th>Frequency_AgglomerativeClustering</th>\n",
       "      <th></th>\n",
       "      <th></th>\n",
       "      <th></th>\n",
       "      <th></th>\n",
       "      <th></th>\n",
       "      <th></th>\n",
       "      <th></th>\n",
       "      <th></th>\n",
       "    </tr>\n",
       "  </thead>\n",
       "  <tbody>\n",
       "    <tr>\n",
       "      <th>0</th>\n",
       "      <td>1777.0</td>\n",
       "      <td>8661.322454</td>\n",
       "      <td>6466.039270</td>\n",
       "      <td>0.0</td>\n",
       "      <td>3420.0</td>\n",
       "      <td>7740.0</td>\n",
       "      <td>12480.0</td>\n",
       "      <td>31740.0</td>\n",
       "    </tr>\n",
       "    <tr>\n",
       "      <th>1</th>\n",
       "      <td>1616.0</td>\n",
       "      <td>77438.836634</td>\n",
       "      <td>6121.857840</td>\n",
       "      <td>55110.0</td>\n",
       "      <td>73620.0</td>\n",
       "      <td>78480.0</td>\n",
       "      <td>82275.0</td>\n",
       "      <td>86340.0</td>\n",
       "    </tr>\n",
       "    <tr>\n",
       "      <th>2</th>\n",
       "      <td>528.0</td>\n",
       "      <td>42983.693182</td>\n",
       "      <td>3875.639654</td>\n",
       "      <td>32700.0</td>\n",
       "      <td>40582.5</td>\n",
       "      <td>42855.0</td>\n",
       "      <td>45300.0</td>\n",
       "      <td>53940.0</td>\n",
       "    </tr>\n",
       "  </tbody>\n",
       "</table>\n",
       "</div>"
      ],
      "text/plain": [
       "                                    count          mean          std      min  \\\n",
       "Frequency_AgglomerativeClustering                                               \n",
       "0                                  1777.0   8661.322454  6466.039270      0.0   \n",
       "1                                  1616.0  77438.836634  6121.857840  55110.0   \n",
       "2                                   528.0  42983.693182  3875.639654  32700.0   \n",
       "\n",
       "                                       25%      50%      75%      max  \n",
       "Frequency_AgglomerativeClustering                                      \n",
       "0                                   3420.0   7740.0  12480.0  31740.0  \n",
       "1                                  73620.0  78480.0  82275.0  86340.0  \n",
       "2                                  40582.5  42855.0  45300.0  53940.0  "
      ]
     },
     "execution_count": 70,
     "metadata": {},
     "output_type": "execute_result"
    }
   ],
   "source": [
    "df_clusters.groupby('Frequency_AgglomerativeClustering').Frequency.describe()"
   ]
  },
  {
   "cell_type": "markdown",
   "id": "46ded7c7-bd04-4440-a13a-bbe04a8361a8",
   "metadata": {},
   "source": [
    "#### Checking Revenue"
   ]
  },
  {
   "cell_type": "code",
   "execution_count": 72,
   "id": "fbb7ebde-9ba7-46d0-aa2b-be86fc138ef0",
   "metadata": {
    "tags": []
   },
   "outputs": [
    {
     "data": {
      "text/html": [
       "<div>\n",
       "<style scoped>\n",
       "    .dataframe tbody tr th:only-of-type {\n",
       "        vertical-align: middle;\n",
       "    }\n",
       "\n",
       "    .dataframe tbody tr th {\n",
       "        vertical-align: top;\n",
       "    }\n",
       "\n",
       "    .dataframe thead th {\n",
       "        text-align: right;\n",
       "    }\n",
       "</style>\n",
       "<table border=\"1\" class=\"dataframe\">\n",
       "  <thead>\n",
       "    <tr style=\"text-align: right;\">\n",
       "      <th></th>\n",
       "      <th>count</th>\n",
       "      <th>mean</th>\n",
       "      <th>std</th>\n",
       "      <th>min</th>\n",
       "      <th>25%</th>\n",
       "      <th>50%</th>\n",
       "      <th>75%</th>\n",
       "      <th>max</th>\n",
       "    </tr>\n",
       "    <tr>\n",
       "      <th>Revenue_AgglomerativeClustering</th>\n",
       "      <th></th>\n",
       "      <th></th>\n",
       "      <th></th>\n",
       "      <th></th>\n",
       "      <th></th>\n",
       "      <th></th>\n",
       "      <th></th>\n",
       "      <th></th>\n",
       "    </tr>\n",
       "  </thead>\n",
       "  <tbody>\n",
       "    <tr>\n",
       "      <th>0</th>\n",
       "      <td>2717.0</td>\n",
       "      <td>457.494716</td>\n",
       "      <td>308.574128</td>\n",
       "      <td>-1165.30</td>\n",
       "      <td>207.5000</td>\n",
       "      <td>377.60</td>\n",
       "      <td>658.640</td>\n",
       "      <td>1221.56</td>\n",
       "    </tr>\n",
       "    <tr>\n",
       "      <th>1</th>\n",
       "      <td>482.0</td>\n",
       "      <td>8658.989089</td>\n",
       "      <td>17137.920810</td>\n",
       "      <td>2799.42</td>\n",
       "      <td>3479.8225</td>\n",
       "      <td>4650.39</td>\n",
       "      <td>7087.245</td>\n",
       "      <td>256438.49</td>\n",
       "    </tr>\n",
       "    <tr>\n",
       "      <th>2</th>\n",
       "      <td>722.0</td>\n",
       "      <td>1855.340817</td>\n",
       "      <td>445.897348</td>\n",
       "      <td>1227.30</td>\n",
       "      <td>1461.0375</td>\n",
       "      <td>1787.53</td>\n",
       "      <td>2192.345</td>\n",
       "      <td>2786.05</td>\n",
       "    </tr>\n",
       "  </tbody>\n",
       "</table>\n",
       "</div>"
      ],
      "text/plain": [
       "                                  count         mean           std      min  \\\n",
       "Revenue_AgglomerativeClustering                                               \n",
       "0                                2717.0   457.494716    308.574128 -1165.30   \n",
       "1                                 482.0  8658.989089  17137.920810  2799.42   \n",
       "2                                 722.0  1855.340817    445.897348  1227.30   \n",
       "\n",
       "                                       25%      50%       75%        max  \n",
       "Revenue_AgglomerativeClustering                                           \n",
       "0                                 207.5000   377.60   658.640    1221.56  \n",
       "1                                3479.8225  4650.39  7087.245  256438.49  \n",
       "2                                1461.0375  1787.53  2192.345    2786.05  "
      ]
     },
     "execution_count": 72,
     "metadata": {},
     "output_type": "execute_result"
    }
   ],
   "source": [
    "df_clusters.groupby('Revenue_AgglomerativeClustering').Revenue.describe()"
   ]
  }
 ],
 "metadata": {
  "environment": {
   "kernel": "python3",
   "name": "common-cpu.m114",
   "type": "gcloud",
   "uri": "gcr.io/deeplearning-platform-release/base-cpu:m114"
  },
  "kernelspec": {
   "display_name": "Python 3",
   "language": "python",
   "name": "python3"
  },
  "language_info": {
   "codemirror_mode": {
    "name": "ipython",
    "version": 3
   },
   "file_extension": ".py",
   "mimetype": "text/x-python",
   "name": "python",
   "nbconvert_exporter": "python",
   "pygments_lexer": "ipython3",
   "version": "3.10.13"
  }
 },
 "nbformat": 4,
 "nbformat_minor": 5
}
