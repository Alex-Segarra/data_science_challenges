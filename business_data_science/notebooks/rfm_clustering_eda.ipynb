{
 "cells": [
  {
   "cell_type": "code",
   "execution_count": 174,
   "id": "fd01c7cd-847e-49ad-a122-feb2127c5edf",
   "metadata": {},
   "outputs": [],
   "source": [
    "import pandas as pd\n",
    "import numpy as np\n",
    "import matplotlib.pyplot as plt\n",
    "import seaborn as sns\n",
    "\n",
    "import os\n",
    "import sys\n",
    "import subprocess\n",
    "import datetime\n",
    "import re\n",
    "\n",
    "from sklearn.cluster import KMeans\n",
    "from sklearn.preprocessing import StandardScaler\n",
    "from sklearn.compose import ColumnTransformer\n",
    "from scipy.stats import boxcox"
   ]
  },
  {
   "cell_type": "code",
   "execution_count": 175,
   "id": "a96f31eb-e9da-4f93-a29b-4f2d7f918ca7",
   "metadata": {},
   "outputs": [],
   "source": [
    "home_dir = '/home/jupyter/data_science_projects/business_data_science'\n",
    "\n",
    "data_dir = os.path.join(home_dir, 'data/external/OnlineRetail.csv')"
   ]
  },
  {
   "cell_type": "code",
   "execution_count": 176,
   "id": "2606c553-6c4f-474f-a680-50c56c23b7de",
   "metadata": {},
   "outputs": [],
   "source": [
    "df = pd.read_csv(data_dir, encoding=\"unicode_escape\").drop_duplicates().dropna().reset_index(drop=True)\n",
    "\n",
    "#df = df.loc[df.Country == 'United Kingdom']\n",
    "\n",
    "# Changing data types\n",
    "df['InvoiceDate'] = pd.to_datetime(df['InvoiceDate'])\n",
    "# time series variables\n",
    "df['date'] = pd.to_datetime(df.InvoiceDate).dt.date\n",
    "df['year'] = pd.to_datetime(df.InvoiceDate).dt.year\n",
    "df['month'] = pd.to_datetime(df.InvoiceDate).dt.month\n",
    "df['day'] = pd.to_datetime(df.InvoiceDate).dt.day\n",
    "df['yearmo'] = pd.to_datetime(df.InvoiceDate).dt.strftime('%Y%m')\n",
    "# new variable\n",
    "\n",
    "df['Revenue'] = df['Quantity'] * df['UnitPrice']"
   ]
  },
  {
   "cell_type": "markdown",
   "id": "6a7c743e-be40-4993-9fd7-e2586f0e0500",
   "metadata": {},
   "source": [
    "#### Convenience Functions"
   ]
  },
  {
   "cell_type": "code",
   "execution_count": 177,
   "id": "4454d12c-c187-46f0-a856-989fd3d9f32f",
   "metadata": {},
   "outputs": [],
   "source": [
    "def transform(data):\n",
    "    \"\"\"\n",
    "    Purpose: Transform data using Boxcox\n",
    "    Input: data - a dataframe column\n",
    "    Output: transformed data\n",
    "    \"\"\"\n",
    "    print('Transforming using Boxcox...')\n",
    "    v,l = boxcox(data+.0000000001)\n",
    "    print(f'Done. Optimal lamda: {l}')\n",
    "    #plt.hist(v, bins = 50)\n",
    "    return v\n",
    "\n",
    "def scale(data):\n",
    "    \"\"\"\n",
    "    Purpose: Transform data using StandardScaler\n",
    "    Input: data - a dataframe column\n",
    "    Output: transformed data\n",
    "    \"\"\"\n",
    "    scaler = StandardScaler()\n",
    "    print('Fitting StandardScaler...')\n",
    "    scaled = scaler.fit_transform(data)\n",
    "    #plt.hist(scaled, bins = 50)\n",
    "    return data\n",
    "\n",
    "def transform_and_scale(data):\n",
    "    \"\"\"\n",
    "    Purpose: Transform data using Boxcox and StandardScaler\n",
    "    Input: data - a dataframe column\n",
    "    Output: transformed data\n",
    "    \"\"\"\n",
    "    print('Transforming using Boxcox and StandardScaler...')\n",
    "    data = transform(data)\n",
    "    if type(data) == pd.core.series.Series:\n",
    "        print('Converting Series to dataframe...')\n",
    "        data = pd.DataFrame(data)\n",
    "    elif type(data) == np.ndarray:\n",
    "        print('Converting array to data...')\n",
    "        data = pd.DataFrame(data)\n",
    "    data = scale(data)\n",
    "    print('Done.')\n",
    "    return data"
   ]
  },
  {
   "cell_type": "code",
   "execution_count": 204,
   "id": "1498261c-3825-4ca4-adc5-4f30c7d6f44d",
   "metadata": {},
   "outputs": [],
   "source": [
    "def plot_cluster_graph(data, transform_and_scale_data=True):\n",
    "    \n",
    "    \"\"\"\n",
    "    Purpose: Plot cluster graph\n",
    "    Input: \n",
    "        data - a dataframe column\n",
    "        transform_and_scale - boolean.  Default is True.  If False, data is not transformed via boxcox transform or scaled via StandardScaler\n",
    "    Output: A scree plot that allows us to determine optimal number of clusters\n",
    "    \"\"\"\n",
    "    print('Plotting cluster graph...')\n",
    "    \n",
    "    #Sum of Sqared Errors\n",
    "    sse = {}\n",
    "\n",
    "    if transform_and_scale_data:\n",
    "        #Scales and Transforms data\n",
    "        data = transform_and_scale(data)\n",
    "\n",
    "    for k in range(1, 11):\n",
    "        kmeans = KMeans(n_clusters=k, max_iter=1000, n_init='auto').fit(data)\n",
    "        sse[k] = kmeans.inertia_\n",
    "\n",
    "    plt.figure(figsize=(10, 5))\n",
    "    plt.plot(list(sse.keys()), list(sse.values()))\n",
    "    plt.xlabel(\"Number of cluster\")\n",
    "    plt.show()\n",
    "    \n",
    "def assign_cluster(data, n_clusters):\n",
    "    \"\"\"\n",
    "    Purpose: Assign cluster\n",
    "    Input: \n",
    "        data - a dataframe column\n",
    "        n_clusters - number of clusters\n",
    "    Output:\n",
    "        an array with a new column called Cluster\n",
    "        \"\"\"\n",
    "    \n",
    "    #Scales and Transforms data\n",
    "    data = transform_and_scale(data)\n",
    "    \n",
    "    print('Assigning cluster...')\n",
    "    kmeans = KMeans(n_clusters=n_clusters, max_iter=1000, n_init='auto')\n",
    "    \n",
    "    # Predicts Cluster\n",
    "    clusters = kmeans.fit_predict(data)\n",
    "    \n",
    "    return clusters + 1\n",
    "\n",
    "def analyze_clusters(df,col:str, n_clusters:int):\n",
    "    \"\"\"\n",
    "    Purpose: Analyze clusters\n",
    "    Input: \n",
    "        df - a dataframe column\n",
    "        col - a column name\n",
    "    Output: \n",
    "        a dataframe with a new column called Cluster\n",
    "        \"\"\"\n",
    "    output_col_name = f'{col}Cluster'\n",
    "    \n",
    "    df[output_col_name] = assign_cluster(df[col], n_clusters)\n",
    "    \n",
    "    df = df.merge(\\\n",
    "                  df.groupby(output_col_name, as_index=False).agg(NewCluster = (col, 'mean')).rank(), on=output_col_name, how='inner')\\\n",
    "                  .drop(output_col_name, axis=1)\\\n",
    "                  .rename(columns={'NewCluster':'RecencyCluster'})\n",
    "    return df"
   ]
  },
  {
   "cell_type": "markdown",
   "id": "137c27a9-d71c-4503-8152-29fdbc92119e",
   "metadata": {},
   "source": [
    "### RECENCY, FREQUENCY, MONETARY ANALYSIS \n",
    "Objective is to find the RFM for each customer to determing Low, Medium and High Value Customers"
   ]
  },
  {
   "cell_type": "code",
   "execution_count": 179,
   "id": "f392ebed-9747-42c5-b9e1-c26695984771",
   "metadata": {},
   "outputs": [],
   "source": [
    "new_df = df.copy()"
   ]
  },
  {
   "cell_type": "markdown",
   "id": "4858b80c-30fa-4724-95e2-cb922ab6afbd",
   "metadata": {},
   "source": [
    "#### Recency"
   ]
  },
  {
   "cell_type": "code",
   "execution_count": 180,
   "id": "691bedd2-cd48-43ff-aeb1-5809a7926239",
   "metadata": {},
   "outputs": [],
   "source": [
    "new_df['Recency'] =  (pd.to_datetime(new_df.InvoiceDate).max() - new_df.InvoiceDate).dt.days"
   ]
  },
  {
   "cell_type": "code",
   "execution_count": 181,
   "id": "95daba2d-d784-4672-8870-82f865ad348c",
   "metadata": {},
   "outputs": [
    {
     "data": {
      "text/plain": [
       "count    4372.000000\n",
       "mean       91.047118\n",
       "std       100.765435\n",
       "min         0.000000\n",
       "25%        16.000000\n",
       "50%        49.000000\n",
       "75%       142.000000\n",
       "max       373.000000\n",
       "Name: Recency, dtype: float64"
      ]
     },
     "execution_count": 181,
     "metadata": {},
     "output_type": "execute_result"
    }
   ],
   "source": [
    "r_df = new_df.groupby(['CustomerID']).agg({'InvoiceDate': 'max'}).reset_index()\\\n",
    ".merge(new_df[['CustomerID', 'InvoiceDate','Recency']], on=['CustomerID','InvoiceDate'], how='inner')\\\n",
    ".drop_duplicates().reset_index(drop=True).drop(['InvoiceDate'], axis=1)\n",
    "\n",
    "r_df.Recency.describe()"
   ]
  },
  {
   "cell_type": "code",
   "execution_count": 182,
   "id": "0b8c9840-06d3-4374-964a-b56c1a1af69f",
   "metadata": {},
   "outputs": [
    {
     "name": "stdout",
     "output_type": "stream",
     "text": [
      "Plotting cluster graph...\n",
      "Transforming using Boxcox and StandardScaler...\n",
      "Transforming using Boxcox...\n",
      "Done. Optimal lamda: 0.23473423281999745\n",
      "Converting array to data...\n",
      "Fitting StandardScaler...\n",
      "Done.\n"
     ]
    },
    {
     "data": {
      "image/png": "[encoded data removed]",
      "text/plain": [
       "<Figure size 1000x500 with 1 Axes>"
      ]
     },
     "metadata": {},
     "output_type": "display_data"
    }
   ],
   "source": [
    "plot_cluster_graph(r_df['Recency'])"
   ]
  },
  {
   "cell_type": "markdown",
   "id": "2c9b35f8-8938-4786-955b-579b98149432",
   "metadata": {},
   "source": [
    "Scree plot shows 3 or 4 clusters would be optimal"
   ]
  },
  {
   "cell_type": "code",
   "execution_count": 209,
   "id": "4088b89a-a7ff-413c-a6fa-329352217078",
   "metadata": {},
   "outputs": [
    {
     "name": "stdout",
     "output_type": "stream",
     "text": [
      "Transforming using Boxcox and StandardScaler...\n",
      "Transforming using Boxcox...\n",
      "Done. Optimal lamda: 0.2852886682631543\n",
      "Converting array to data...\n",
      "Fitting StandardScaler...\n",
      "Done.\n",
      "Assigning cluster...\n"
     ]
    },
    {
     "data": {
      "text/html": [
       "<div>\n",
       "<style scoped>\n",
       "    .dataframe tbody tr th:only-of-type {\n",
       "        vertical-align: middle;\n",
       "    }\n",
       "\n",
       "    .dataframe tbody tr th {\n",
       "        vertical-align: top;\n",
       "    }\n",
       "\n",
       "    .dataframe thead th {\n",
       "        text-align: right;\n",
       "    }\n",
       "</style>\n",
       "<table border=\"1\" class=\"dataframe\">\n",
       "  <thead>\n",
       "    <tr style=\"text-align: right;\">\n",
       "      <th></th>\n",
       "      <th>CustomerID</th>\n",
       "      <th>Recency</th>\n",
       "      <th>RecencyCluster</th>\n",
       "    </tr>\n",
       "  </thead>\n",
       "  <tbody>\n",
       "    <tr>\n",
       "      <th>0</th>\n",
       "      <td>12378.0</td>\n",
       "      <td>129</td>\n",
       "      <td>4.0</td>\n",
       "    </tr>\n",
       "    <tr>\n",
       "      <th>1</th>\n",
       "      <td>12534.0</td>\n",
       "      <td>130</td>\n",
       "      <td>4.0</td>\n",
       "    </tr>\n",
       "    <tr>\n",
       "      <th>2</th>\n",
       "      <td>12644.0</td>\n",
       "      <td>129</td>\n",
       "      <td>4.0</td>\n",
       "    </tr>\n",
       "    <tr>\n",
       "      <th>3</th>\n",
       "      <td>12750.0</td>\n",
       "      <td>128</td>\n",
       "      <td>4.0</td>\n",
       "    </tr>\n",
       "    <tr>\n",
       "      <th>4</th>\n",
       "      <td>12942.0</td>\n",
       "      <td>130</td>\n",
       "      <td>4.0</td>\n",
       "    </tr>\n",
       "    <tr>\n",
       "      <th>...</th>\n",
       "      <td>...</td>\n",
       "      <td>...</td>\n",
       "      <td>...</td>\n",
       "    </tr>\n",
       "    <tr>\n",
       "      <th>3214</th>\n",
       "      <td>17754.0</td>\n",
       "      <td>0</td>\n",
       "      <td>1.0</td>\n",
       "    </tr>\n",
       "    <tr>\n",
       "      <th>3215</th>\n",
       "      <td>17757.0</td>\n",
       "      <td>0</td>\n",
       "      <td>1.0</td>\n",
       "    </tr>\n",
       "    <tr>\n",
       "      <th>3216</th>\n",
       "      <td>17924.0</td>\n",
       "      <td>0</td>\n",
       "      <td>1.0</td>\n",
       "    </tr>\n",
       "    <tr>\n",
       "      <th>3217</th>\n",
       "      <td>17949.0</td>\n",
       "      <td>0</td>\n",
       "      <td>1.0</td>\n",
       "    </tr>\n",
       "    <tr>\n",
       "      <th>3218</th>\n",
       "      <td>18102.0</td>\n",
       "      <td>0</td>\n",
       "      <td>1.0</td>\n",
       "    </tr>\n",
       "  </tbody>\n",
       "</table>\n",
       "<p>3219 rows × 3 columns</p>\n",
       "</div>"
      ],
      "text/plain": [
       "      CustomerID  Recency  RecencyCluster\n",
       "0        12378.0      129             4.0\n",
       "1        12534.0      130             4.0\n",
       "2        12644.0      129             4.0\n",
       "3        12750.0      128             4.0\n",
       "4        12942.0      130             4.0\n",
       "...          ...      ...             ...\n",
       "3214     17754.0        0             1.0\n",
       "3215     17757.0        0             1.0\n",
       "3216     17924.0        0             1.0\n",
       "3217     17949.0        0             1.0\n",
       "3218     18102.0        0             1.0\n",
       "\n",
       "[3219 rows x 3 columns]"
      ]
     },
     "execution_count": 209,
     "metadata": {},
     "output_type": "execute_result"
    }
   ],
   "source": [
    "analyze_clusters(r_df, 'Recency', 4)"
   ]
  },
  {
   "cell_type": "markdown",
   "id": "2fe2622a-aee9-4fcb-a2c9-3d9db00ce877",
   "metadata": {},
   "source": [
    "#### Frequency"
   ]
  },
  {
   "cell_type": "code",
   "execution_count": null,
   "id": "79c82249-7325-4258-9f0a-b5b50470023a",
   "metadata": {},
   "outputs": [],
   "source": []
  }
 ],
 "metadata": {
  "environment": {
   "kernel": "python3",
   "name": "common-cpu.m109",
   "type": "gcloud",
   "uri": "gcr.io/deeplearning-platform-release/base-cpu:m109"
  },
  "kernelspec": {
   "display_name": "Python 3",
   "language": "python",
   "name": "python3"
  },
  "language_info": {
   "codemirror_mode": {
    "name": "ipython",
    "version": 3
   },
   "file_extension": ".py",
   "mimetype": "text/x-python",
   "name": "python",
   "nbconvert_exporter": "python",
   "pygments_lexer": "ipython3",
   "version": "3.10.11"
  }
 },
 "nbformat": 4,
 "nbformat_minor": 5
}
