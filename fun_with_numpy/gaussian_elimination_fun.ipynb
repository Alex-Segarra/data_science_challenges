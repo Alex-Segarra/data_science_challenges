{
 "cells": [
  {
   "cell_type": "code",
   "execution_count": 333,
   "id": "65c328e5-1ffa-4ef1-b74b-c31f2666ed2a",
   "metadata": {},
   "outputs": [],
   "source": [
    "import numpy as np"
   ]
  },
  {
   "cell_type": "code",
   "execution_count": 334,
   "id": "29e2bcee-21ab-4b35-b11c-17fbc99daa78",
   "metadata": {},
   "outputs": [],
   "source": [
    "# Row Echelon Form"
   ]
  },
  {
   "cell_type": "code",
   "execution_count": 457,
   "id": "cf6342c6-172f-4295-b0c8-bf2404358304",
   "metadata": {},
   "outputs": [],
   "source": [
    "def rowechelonform(M, verbose=False):\n",
    "\n",
    "    M = M.copy()\n",
    "    M = M.astype('float')\n",
    "    def sortTransform(M, verbose = verbose):\n",
    "        \n",
    "        newM = M.copy()\n",
    "        \n",
    "        \n",
    "        \n",
    "        for k in reversed(range(newM.shape[1])):\n",
    "            # Create a boolean matrix, where 1 is values above 0.\n",
    "            boolM = np.where(np.isclose(newM, 0), 0 ,1)\n",
    "            # Sort the matrix by the boolean matrix, this preserves the order as best as possible, only switching the rows when there is a non-zero value below a zero.\n",
    "            newIndeces = np.argsort(-boolM[:,k])\n",
    "            # Sort the matrix\n",
    "            newM = newM[newIndeces]\n",
    "            \n",
    "        return newM\n",
    "\n",
    "    def refTransform(M, verbose = verbose):\n",
    "\n",
    "        if M.shape[0] == 1 and M.shape[1] == 1:\n",
    "            print(f\"Matrix is {M.shape[0]}x{M.shape[1]}\") if verbose == True else None\n",
    "            M = M / M if M > 1 else M\n",
    "            return M\n",
    "\n",
    "        elif M.shape[0] == 0 or M.shape[1] == 0:\n",
    "            print(f\"Matrix is {M.shape[0]}x{M.shape[1]}\") if verbose == True else None\n",
    "            return M\n",
    "        \n",
    "        elif np.all(M==0):\n",
    "            print(f\"Matrix is is all zeros\") if verbose == True else None\n",
    "            return M\n",
    "\n",
    "        else:\n",
    "            \n",
    "            #Sort Matrix\n",
    "            A = sortTransform(M) if np.nonzero(M[:,0])[0].size < len(M[:,0]) else M.copy()\n",
    "            print(f\"Sorting Matrix \\n {str(A)}\") if verbose == True else None\n",
    "            # Divide row by its first non-zero element\n",
    "            for row in range(M.shape[0]):\n",
    "                print(f\"Dividing row {row} ({A[row]}) by {A[row,0]} to get {A[row] / A[row,0] if A[row,0] else A[row]}\") if verbose == True else None\n",
    "                A[row] = A[row] / A[row,0] if A[row,0] else A[row]\n",
    "                print(f\"The result is {A}\") if verbose == True else None\n",
    "            # Subtract the row from all other rows\n",
    "            A[1:] -= A[0] * A[1:,0:1]\n",
    "            print(f\"Subtracting row {0} from all other rows.\\n the result is\\n {str(A)}\") if verbose == True else None\n",
    "            # Check if there are any other non-zero elements below the first row  \n",
    "            k = 1 if np.nonzero(A[:,0])[0].size > 0 else 0 \n",
    "            # If there are, repeat the process by taking a subset of the matrix, k rows below the first (determined by whether there are non-zero elements below the first row)\n",
    "            B = A[k:,1:]\n",
    "            print(f\"Sending the subset of the matrix\\n {str(B)}\") if verbose == True else None\n",
    "            # Recursively call the function\n",
    "            B = refTransform(B)\n",
    "            # Update the matrix\n",
    "            A[k:,1:] = B\n",
    "            print(f\"The resulting matrix is\\n {str(A)}\") if verbose == True else None\n",
    "            \n",
    "            return A\n",
    "        \n",
    "    newM = refTransform(M)\n",
    "    \n",
    "    return newM"
   ]
  },
  {
   "cell_type": "code",
   "execution_count": 336,
   "id": "9124c37a-0d83-41cc-9060-6b196e9bfa27",
   "metadata": {},
   "outputs": [],
   "source": [
    "# Back Substitution"
   ]
  },
  {
   "cell_type": "code",
   "execution_count": 337,
   "id": "2253265e-6f5e-4a26-b194-b0c3a2b98336",
   "metadata": {},
   "outputs": [],
   "source": [
    "def backsubstitution(M, verbose = False):\n",
    "    A = M.copy()\n",
    "    numrows = A.shape[0]\n",
    "    if not numrows == 1:\n",
    "        #\n",
    "        for row in reversed(range(numrows-1)):\n",
    "\n",
    "            print(\"*\"*75) if verbose == True else None\n",
    "            \n",
    "            col_index = np.nonzero(A[-1,:])[0][0]\n",
    "            \n",
    "            value = M[row,col_index]\n",
    "            \n",
    "            print(f\"\\nWe multiply {value} against {M[-1]} to get {value * M[-1]}\") if verbose == True else None\n",
    "            \n",
    "            print(f\"\\nWe substract {value * M[-1]} from {M[row]}\") if verbose == True else None\n",
    "           \n",
    "            A[row] = M[row] - value * M[-1] # Using M to preserve initial value\n",
    "            \n",
    "            print(f\"\\nThe result is: {A[row]}\") if verbose == True else None\n",
    "\n",
    "        B = A[:-1,:]\n",
    "\n",
    "        print(\"*\"*75) if verbose == True else None\n",
    "        \n",
    "        print(f\"\\nSending this matrix into recursion: \\n{B}\\n...to restart the process and assess against a new pivot.\") if verbose == True else None\n",
    "        \n",
    "        A[:-1,:] = backsubstitution(B,verbose=verbose)\n",
    "\n",
    "\n",
    "    else:\n",
    "        print('\\nReached first row') if verbose == True else None\n",
    "        return A\n",
    "\n",
    "    #final check\n",
    "\n",
    "    return A\n",
    "\n",
    "\n"
   ]
  },
  {
   "cell_type": "code",
   "execution_count": 362,
   "id": "57a77cfb-dcbb-4c4f-a3d5-0aa80869be93",
   "metadata": {},
   "outputs": [],
   "source": [
    "def gaussianelimination(M,verbose=False):\n",
    "    A = M.copy()\n",
    "    n = np.min([A.shape[0], A.shape[1]])\n",
    "    \n",
    "    if np.linalg.det(M[:n,:n]) == 0:\n",
    "        print('Singular Matrix')\n",
    "        return A\n",
    "    else:\n",
    "        A = rowechelonform(A,verbose=verbose)\n",
    "        if not isinstance(A,str):\n",
    "            A = backsubstitution(A,verbose=verbose)\n",
    "        return A"
   ]
  },
  {
   "cell_type": "code",
   "execution_count": 459,
   "id": "2b1d0fb6-a2ed-4808-9576-e32d32eb4be2",
   "metadata": {},
   "outputs": [
    {
     "data": {
      "text/plain": [
       "array([[ 1.,  0.,  0.,  1.],\n",
       "       [ 0.,  1.,  0.,  0.],\n",
       "       [ 0.,  0.,  1., -1.]])"
      ]
     },
     "execution_count": 459,
     "metadata": {},
     "output_type": "execute_result"
    }
   ],
   "source": [
    "M = np.array([[1,-1,.5,.5],[0,1,1,-1],[0,0,1,-1]])\n",
    "gaussianelimination(M)"
   ]
  },
  {
   "cell_type": "code",
   "execution_count": 460,
   "id": "b52f054a-028b-493a-9533-d2c9aac8f341",
   "metadata": {},
   "outputs": [
    {
     "name": "stdout",
     "output_type": "stream",
     "text": [
      "Singular Matrix\n"
     ]
    },
    {
     "data": {
      "text/plain": [
       "array([[-2,  0, -1,  2],\n",
       "       [ 4,  0,  1,  0],\n",
       "       [ 6,  0,  1,  2]])"
      ]
     },
     "execution_count": 460,
     "metadata": {},
     "output_type": "execute_result"
    }
   ],
   "source": [
    "M = np.array([[-2,0,-1,2],[4,0,1,0],[6,0,1,2]])\n",
    "gaussianelimination(M,verbose=True)"
   ]
  },
  {
   "cell_type": "code",
   "execution_count": 458,
   "id": "2b588cce-10cf-4c91-bd88-d4868f6970bf",
   "metadata": {},
   "outputs": [
    {
     "name": "stdout",
     "output_type": "stream",
     "text": [
      "Sorting Matrix \n",
      " [[-2.  1. -1.  1.]\n",
      " [ 3.  4.  2. 13.]\n",
      " [ 1. -5. -2.  0.]]\n",
      "Dividing row 0 ([-2.  1. -1.  1.]) by -2.0 to get [ 1.  -0.5  0.5 -0.5]\n",
      "The result is [[ 1.  -0.5  0.5 -0.5]\n",
      " [ 3.   4.   2.  13. ]\n",
      " [ 1.  -5.  -2.   0. ]]\n",
      "Dividing row 1 ([ 3.  4.  2. 13.]) by 3.0 to get [1.         1.33333333 0.66666667 4.33333333]\n",
      "The result is [[ 1.         -0.5         0.5        -0.5       ]\n",
      " [ 1.          1.33333333  0.66666667  4.33333333]\n",
      " [ 1.         -5.         -2.          0.        ]]\n",
      "Dividing row 2 ([ 1. -5. -2.  0.]) by 1.0 to get [ 1. -5. -2.  0.]\n",
      "The result is [[ 1.         -0.5         0.5        -0.5       ]\n",
      " [ 1.          1.33333333  0.66666667  4.33333333]\n",
      " [ 1.         -5.         -2.          0.        ]]\n",
      "Subtracting row 0 from all other rows.\n",
      " the result is\n",
      " [[ 1.         -0.5         0.5        -0.5       ]\n",
      " [ 0.          1.83333333  0.16666667  4.83333333]\n",
      " [ 0.         -4.5        -2.5         0.5       ]]\n",
      "Sending the subset of the matrix\n",
      " [[ 1.83333333  0.16666667  4.83333333]\n",
      " [-4.5        -2.5         0.5       ]]\n",
      "Sorting Matrix \n",
      " [[ 1.83333333  0.16666667  4.83333333]\n",
      " [-4.5        -2.5         0.5       ]]\n",
      "Dividing row 0 ([1.83333333 0.16666667 4.83333333]) by 1.8333333333333333 to get [1.         0.09090909 2.63636364]\n",
      "The result is [[ 1.          0.09090909  2.63636364]\n",
      " [-4.5        -2.5         0.5       ]]\n",
      "Dividing row 1 ([-4.5 -2.5  0.5]) by -4.5 to get [ 1.          0.55555556 -0.11111111]\n",
      "The result is [[ 1.          0.09090909  2.63636364]\n",
      " [ 1.          0.55555556 -0.11111111]]\n",
      "Subtracting row 0 from all other rows.\n",
      " the result is\n",
      " [[ 1.          0.09090909  2.63636364]\n",
      " [ 0.          0.46464646 -2.74747475]]\n",
      "Sending the subset of the matrix\n",
      " [[ 0.46464646 -2.74747475]]\n",
      "Sorting Matrix \n",
      " [[ 0.46464646 -2.74747475]]\n",
      "Dividing row 0 ([ 0.46464646 -2.74747475]) by 0.4646464646464647 to get [ 1.         -5.91304348]\n",
      "The result is [[ 1.         -5.91304348]]\n",
      "Subtracting row 0 from all other rows.\n",
      " the result is\n",
      " [[ 1.         -5.91304348]]\n",
      "Sending the subset of the matrix\n",
      " []\n",
      "Matrix is 0x1\n",
      "The resulting matrix is\n",
      " [[ 1.         -5.91304348]]\n",
      "The resulting matrix is\n",
      " [[ 1.          0.09090909  2.63636364]\n",
      " [ 0.          1.         -5.91304348]]\n",
      "The resulting matrix is\n",
      " [[ 1.         -0.5         0.5        -0.5       ]\n",
      " [ 0.          1.          0.09090909  2.63636364]\n",
      " [ 0.          0.          1.         -5.91304348]]\n",
      "***************************************************************************\n",
      "\n",
      "We multiply 0.0909090909090909 against [ 0.          0.          1.         -5.91304348] to get [ 0.          0.          0.09090909 -0.53754941]\n",
      "\n",
      "We substract [ 0.          0.          0.09090909 -0.53754941] from [0.         1.         0.09090909 2.63636364]\n",
      "\n",
      "The result is: [0.         1.         0.         3.17391304]\n",
      "***************************************************************************\n",
      "\n",
      "We multiply 0.5 against [ 0.          0.          1.         -5.91304348] to get [ 0.          0.          0.5        -2.95652174]\n",
      "\n",
      "We substract [ 0.          0.          0.5        -2.95652174] from [ 1.  -0.5  0.5 -0.5]\n",
      "\n",
      "The result is: [ 1.         -0.5         0.          2.45652174]\n",
      "***************************************************************************\n",
      "\n",
      "Sending this matrix into recursion: \n",
      "[[ 1.         -0.5         0.          2.45652174]\n",
      " [ 0.          1.          0.          3.17391304]]\n",
      "...to restart the process and assess against a new pivot.\n",
      "***************************************************************************\n",
      "\n",
      "We multiply -0.5 against [0.         1.         0.         3.17391304] to get [-0.         -0.5        -0.         -1.58695652]\n",
      "\n",
      "We substract [-0.         -0.5        -0.         -1.58695652] from [ 1.         -0.5         0.          2.45652174]\n",
      "\n",
      "The result is: [1.         0.         0.         4.04347826]\n",
      "***************************************************************************\n",
      "\n",
      "Sending this matrix into recursion: \n",
      "[[1.         0.         0.         4.04347826]]\n",
      "...to restart the process and assess against a new pivot.\n",
      "\n",
      "Reached first row\n"
     ]
    },
    {
     "data": {
      "text/plain": [
       "array([[ 1.        ,  0.        ,  0.        ,  4.04347826],\n",
       "       [ 0.        ,  1.        ,  0.        ,  3.17391304],\n",
       "       [ 0.        ,  0.        ,  1.        , -5.91304348]])"
      ]
     },
     "execution_count": 458,
     "metadata": {},
     "output_type": "execute_result"
    }
   ],
   "source": [
    "M = np.array([[-2,1,-1,1],[3,4,2,13],[1,-5,-2,0]])\n",
    "gaussianelimination(M,verbose=True)"
   ]
  }
 ],
 "metadata": {
  "kernelspec": {
   "display_name": "Python 3 (ipykernel)",
   "language": "python",
   "name": "python3"
  },
  "language_info": {
   "codemirror_mode": {
    "name": "ipython",
    "version": 3
   },
   "file_extension": ".py",
   "mimetype": "text/x-python",
   "name": "python",
   "nbconvert_exporter": "python",
   "pygments_lexer": "ipython3",
   "version": "3.11.7"
  }
 },
 "nbformat": 4,
 "nbformat_minor": 5
}
