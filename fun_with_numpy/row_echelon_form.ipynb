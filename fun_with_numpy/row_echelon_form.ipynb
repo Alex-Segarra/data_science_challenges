{
 "cells": [
  {
   "cell_type": "code",
   "execution_count": 17,
   "id": "4651ddcc-14ab-4384-b4c9-f1a9a656bc91",
   "metadata": {
    "tags": []
   },
   "outputs": [],
   "source": [
    "import numpy as np"
   ]
  },
  {
   "cell_type": "code",
   "execution_count": 18,
   "id": "8c36d1d1-08ef-45d0-9fdc-12ab76b7603d",
   "metadata": {
    "tags": []
   },
   "outputs": [],
   "source": [
    "def REF(M, verbose=False):\n",
    "    def sortTransform(M, verbose = verbose):\n",
    "\n",
    "        newM = M.copy()\n",
    "        \n",
    "        for k in reversed(range(newM.shape[1])):\n",
    "            # Create a boolean matrix, where 1 is values above 0.\n",
    "            boolM = np.where(np.isclose(newM, 0), 0 ,1)\n",
    "            # Sort the matrix by the boolean matrix, this preserves the order as best as possible, only switching the rows when there is a non-zero value below a zero.\n",
    "            newIndeces = np.argsort(-boolM[:,k])\n",
    "            # Sort the matrix\n",
    "            newM = newM[newIndeces]\n",
    "            \n",
    "        return newM\n",
    "\n",
    "    def refTransform(M, verbose = verbose):\n",
    "\n",
    "        if M.shape[0] == 1 and M.shape[1] == 1:\n",
    "            print(f\"Matrix is {M.shape[0]}x{M.shape[1]}\") if verbose == True else None\n",
    "            M = M / M if M > 1 else M\n",
    "            return M\n",
    "\n",
    "        elif M.shape[0] == 0 or M.shape[1] == 0:\n",
    "            print(f\"Matrix is {M.shape[0]}x{M.shape[1]}\") if verbose == True else None\n",
    "            return M\n",
    "        \n",
    "        elif np.all(M==0):\n",
    "            print(f\"Matrix is is all zeros\") if verbose == True else None\n",
    "            return M\n",
    "\n",
    "        else:\n",
    "            \n",
    "            #Sort Matrix\n",
    "            A = sortTransform(M) if np.nonzero(M[:,0])[0].size < len(M[:,0]) else M.copy()\n",
    "            print(f\"Sorting Matrix \\n {str(A)}\") if verbose == True else None\n",
    "            # Divide row by its first non-zero element\n",
    "            for row in range(M.shape[0]):\n",
    "                A[row] = A[row] / A[row,0] if A[row,0] else A[row]\n",
    "                print(f\"Dividing row {row} by {A[row,0]}\") if verbose == True else None\n",
    "                print(f\"The result is {str(A)}\") if verbose == True else None\n",
    "            # Subtract the row from all other rows\n",
    "            A[1:] -= A[0] * A[1:,0:1]\n",
    "            print(f\"Subtracting row {0} from all other rows.\\n tbe result is\\n {str(A)}\") if verbose == True else None\n",
    "            # Check if there are any other non-zero elements below the first row  \n",
    "            k = 1 if np.nonzero(A[:,0])[0].size > 0 else 0 \n",
    "            # If there are, repeat the process by taking a subset of the matrix, k rows below the first (determined by whether there are non-zero elements below the first row)\n",
    "            B = A[k:,1:]\n",
    "            print(f\"Sending the subset of the matrix\\n {str(B)}\") if verbose == True else None\n",
    "            # Recursively call the function\n",
    "            B = refTransform(B)\n",
    "            # Update the matrix\n",
    "            A[k:,1:] = B\n",
    "            print(f\"The resulting matrix is\\n {str(A)}\") if verbose == True else None\n",
    "            \n",
    "            return A\n",
    "        \n",
    "    newM = refTransform(M)\n",
    "    \n",
    "    return newM"
   ]
  },
  {
   "cell_type": "code",
   "execution_count": 19,
   "id": "59b1cc44-b5bc-4203-9852-33539461dc20",
   "metadata": {
    "tags": []
   },
   "outputs": [
    {
     "name": "stdout",
     "output_type": "stream",
     "text": [
      "Sorting Matrix \n",
      " [[1. 2. 3. 4.]\n",
      " [5. 0. 2. 3.]\n",
      " [1. 4. 5. 6.]]\n",
      "Dividing row 0 by 1.0\n",
      "The result is [[1. 2. 3. 4.]\n",
      " [5. 0. 2. 3.]\n",
      " [1. 4. 5. 6.]]\n",
      "Dividing row 1 by 1.0\n",
      "The result is [[1.  2.  3.  4. ]\n",
      " [1.  0.  0.4 0.6]\n",
      " [1.  4.  5.  6. ]]\n",
      "Dividing row 2 by 1.0\n",
      "The result is [[1.  2.  3.  4. ]\n",
      " [1.  0.  0.4 0.6]\n",
      " [1.  4.  5.  6. ]]\n",
      "Subtracting row 0 from all other rows.\n",
      " tbe result is\n",
      " [[ 1.   2.   3.   4. ]\n",
      " [ 0.  -2.  -2.6 -3.4]\n",
      " [ 0.   2.   2.   2. ]]\n",
      "Sending the subset of the matrix\n",
      " [[-2.  -2.6 -3.4]\n",
      " [ 2.   2.   2. ]]\n",
      "Sorting Matrix \n",
      " [[-2.  -2.6 -3.4]\n",
      " [ 2.   2.   2. ]]\n",
      "Dividing row 0 by 1.0\n",
      "The result is [[1.  1.3 1.7]\n",
      " [2.  2.  2. ]]\n",
      "Dividing row 1 by 1.0\n",
      "The result is [[1.  1.3 1.7]\n",
      " [1.  1.  1. ]]\n",
      "Subtracting row 0 from all other rows.\n",
      " tbe result is\n",
      " [[ 1.   1.3  1.7]\n",
      " [ 0.  -0.3 -0.7]]\n",
      "Sending the subset of the matrix\n",
      " [[-0.3 -0.7]]\n",
      "Sorting Matrix \n",
      " [[-0.3 -0.7]]\n",
      "Dividing row 0 by 1.0\n",
      "The result is [[1.         2.33333333]]\n",
      "Subtracting row 0 from all other rows.\n",
      " tbe result is\n",
      " [[1.         2.33333333]]\n",
      "Sending the subset of the matrix\n",
      " []\n",
      "Matrix is 0x1\n",
      "The resulting matrix is\n",
      " [[1.         2.33333333]]\n",
      "The resulting matrix is\n",
      " [[1.         1.3        1.7       ]\n",
      " [0.         1.         2.33333333]]\n",
      "The resulting matrix is\n",
      " [[1.         2.         3.         4.        ]\n",
      " [0.         1.         1.3        1.7       ]\n",
      " [0.         0.         1.         2.33333333]]\n"
     ]
    },
    {
     "data": {
      "text/plain": [
       "array([[1.        , 2.        , 3.        , 4.        ],\n",
       "       [0.        , 1.        , 1.3       , 1.7       ],\n",
       "       [0.        , 0.        , 1.        , 2.33333333]])"
      ]
     },
     "execution_count": 19,
     "metadata": {},
     "output_type": "execute_result"
    }
   ],
   "source": [
    "M =np.array([[1., 2., 3.,4],\n",
    "          [5., 0., 2.,3],\n",
    "          [1., 4., 5.,6]])\n",
    "REF(M,verbose = True)"
   ]
  },
  {
   "cell_type": "code",
   "execution_count": 20,
   "id": "637635b9-ec53-4aa9-b45f-247e6f2c4836",
   "metadata": {
    "tags": []
   },
   "outputs": [],
   "source": [
    "test_cases = [{'name': 'check_null_matrix',\n",
    "  'input': {'A': np.array([[0, 0, 0],\n",
    "          [0, 0, 0],\n",
    "          [0, 0, 0]]),\n",
    "   'B': np.array([[0],\n",
    "          [0],\n",
    "          [0]])},\n",
    "  'expected': np.array([[0, 0, 0, 0],\n",
    "         [0, 0, 0, 0],\n",
    "         [0, 0, 0, 0]])},\n",
    " {'name': 'check_identity_matrix',\n",
    "  'input': {'A': np.array([[1., 0., 0.],\n",
    "          [0., 1., 0.],\n",
    "          [0., 0., 1.],\n",
    "          [0., 0., 0.]]),\n",
    "   'B': np.array([[0.],\n",
    "          [0.],\n",
    "          [0.],\n",
    "          [1.]])},\n",
    "  'expected': np.array([[1., 0., 0., 0.],\n",
    "         [0., 1., 0., 0.],\n",
    "         [0., 0., 1., 0.],\n",
    "         [0., 0., 0., 1.]])},\n",
    " {'name': 'check_matrix_1',\n",
    "  'input': {'A': np.array([[1., 2., 3.],\n",
    "          [5., 0., 2.],\n",
    "          [1., 4., 5.]]),\n",
    "   'B': np.array([[4.],\n",
    "          [3.],\n",
    "          [6.]])},\n",
    "  'expected': np.array([[ 1.        ,  2.        ,  3.        ,  4.        ],\n",
    "         [-0.        ,  1.        ,  1.3       ,  1.7       ],\n",
    "         [-0.        , -0.        ,  1.        ,  2.33333333]])},\n",
    " {'name': 'check_matrix_2',\n",
    "  'input': {'A': np.array([[ 1.,  5.,  6.],\n",
    "          [ 3.,  1.,  4.],\n",
    "          [ 2., -4., -2.]]),\n",
    "   'B': np.array([[ 9.],\n",
    "          [ 4.],\n",
    "          [-5.]])},\n",
    "  'expected': np.array([[ 1.        ,  5.        ,  6.        ,  9.        ],\n",
    "         [-0.        ,  1.        ,  1.        ,  1.64285714],\n",
    "         [ 0.        ,  0.        ,  0.        ,  0.        ]])}]"
   ]
  },
  {
   "cell_type": "code",
   "execution_count": 21,
   "id": "5bcbb75e-0f68-4283-9e61-5ab9e9e038bf",
   "metadata": {
    "tags": []
   },
   "outputs": [
    {
     "name": "stdout",
     "output_type": "stream",
     "text": [
      "Running test case check_null_matrix...\n",
      "Test passed!\n",
      "Running test case check_identity_matrix...\n",
      "Test passed!\n",
      "Running test case check_matrix_1...\n",
      "Test passed!\n",
      "Running test case check_matrix_2...\n",
      "Test passed!\n"
     ]
    }
   ],
   "source": [
    "for test_case in test_cases:\n",
    "    print(f\"Running test case {test_case['name']}...\")\n",
    "    M = np.hstack((test_case['input']['A'], test_case['input']['B']))\n",
    "    newM = REF(M)\n",
    "    #newM=row_echelon(M)\n",
    "    if np.allclose(newM, test_case['expected']):\n",
    "        print(\"Test passed!\")\n",
    "    else:\n",
    "        print(\"Test failed!\")\n",
    "        print(f\"Expected: {str(test_case['expected'])}\\nOutput: {str(newM)}\")"
   ]
  }
 ],
 "metadata": {
  "environment": {
   "kernel": "python3",
   "name": "common-cpu.m114",
   "type": "gcloud",
   "uri": "gcr.io/deeplearning-platform-release/base-cpu:m114"
  },
  "kernelspec": {
   "display_name": "Python 3",
   "language": "python",
   "name": "python3"
  },
  "language_info": {
   "codemirror_mode": {
    "name": "ipython",
    "version": 3
   },
   "file_extension": ".py",
   "mimetype": "text/x-python",
   "name": "python",
   "nbconvert_exporter": "python",
   "pygments_lexer": "ipython3",
   "version": "3.10.13"
  }
 },
 "nbformat": 4,
 "nbformat_minor": 5
}
